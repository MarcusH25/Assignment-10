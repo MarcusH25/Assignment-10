{
 "cells": [
  {
   "cell_type": "code",
   "execution_count": 1,
   "id": "13b7a902",
   "metadata": {
    "colab": {
     "base_uri": "https://localhost:8080/",
     "height": 363
    },
    "id": "13b7a902",
    "outputId": "ba08309d-813e-486c-e7c6-95f8e9d27b96",
    "scrolled": false
   },
   "outputs": [
    {
     "data": {
      "text/html": [
       "<div>\n",
       "<style scoped>\n",
       "    .dataframe tbody tr th:only-of-type {\n",
       "        vertical-align: middle;\n",
       "    }\n",
       "\n",
       "    .dataframe tbody tr th {\n",
       "        vertical-align: top;\n",
       "    }\n",
       "\n",
       "    .dataframe thead th {\n",
       "        text-align: right;\n",
       "    }\n",
       "</style>\n",
       "<table border=\"1\" class=\"dataframe\">\n",
       "  <thead>\n",
       "    <tr style=\"text-align: right;\">\n",
       "      <th></th>\n",
       "      <th>Unnamed: 0</th>\n",
       "      <th>id</th>\n",
       "      <th>comment_text</th>\n",
       "      <th>toxic</th>\n",
       "    </tr>\n",
       "  </thead>\n",
       "  <tbody>\n",
       "    <tr>\n",
       "      <th>0</th>\n",
       "      <td>5</td>\n",
       "      <td>0001ea8717f6de06</td>\n",
       "      <td>Thank you for understanding I think very highl...</td>\n",
       "      <td>no</td>\n",
       "    </tr>\n",
       "    <tr>\n",
       "      <th>1</th>\n",
       "      <td>7</td>\n",
       "      <td>000247e83dcc1211</td>\n",
       "      <td>Dear god this site is horrible</td>\n",
       "      <td>no</td>\n",
       "    </tr>\n",
       "    <tr>\n",
       "      <th>2</th>\n",
       "      <td>11</td>\n",
       "      <td>0002f87b16116a7f</td>\n",
       "      <td>Somebody will invariably try to add Religion ...</td>\n",
       "      <td>no</td>\n",
       "    </tr>\n",
       "    <tr>\n",
       "      <th>3</th>\n",
       "      <td>13</td>\n",
       "      <td>0003e1cccfd5a40a</td>\n",
       "      <td>It says it right there that it IS a type The...</td>\n",
       "      <td>no</td>\n",
       "    </tr>\n",
       "    <tr>\n",
       "      <th>4</th>\n",
       "      <td>14</td>\n",
       "      <td>00059ace3e3e9a53</td>\n",
       "      <td>Before adding a new product to the list mak...</td>\n",
       "      <td>no</td>\n",
       "    </tr>\n",
       "    <tr>\n",
       "      <th>5</th>\n",
       "      <td>16</td>\n",
       "      <td>000663aff0fffc80</td>\n",
       "      <td>this other one from 1897</td>\n",
       "      <td>no</td>\n",
       "    </tr>\n",
       "    <tr>\n",
       "      <th>6</th>\n",
       "      <td>17</td>\n",
       "      <td>000689dd34e20979</td>\n",
       "      <td>Reason for banning throwing   This article ne...</td>\n",
       "      <td>no</td>\n",
       "    </tr>\n",
       "    <tr>\n",
       "      <th>7</th>\n",
       "      <td>19</td>\n",
       "      <td>000844b52dee5f3f</td>\n",
       "      <td>blocked from editing Wikipedia</td>\n",
       "      <td>no</td>\n",
       "    </tr>\n",
       "    <tr>\n",
       "      <th>8</th>\n",
       "      <td>21</td>\n",
       "      <td>00091c35fa9d0465</td>\n",
       "      <td>Arabs are committing genocide in Iraq but no ...</td>\n",
       "      <td>yes</td>\n",
       "    </tr>\n",
       "    <tr>\n",
       "      <th>9</th>\n",
       "      <td>22</td>\n",
       "      <td>000968ce11f5ee34</td>\n",
       "      <td>Please stop If you continue to vandalize Wikip...</td>\n",
       "      <td>no</td>\n",
       "    </tr>\n",
       "  </tbody>\n",
       "</table>\n",
       "</div>"
      ],
      "text/plain": [
       "   Unnamed: 0                id  \\\n",
       "0           5  0001ea8717f6de06   \n",
       "1           7  000247e83dcc1211   \n",
       "2          11  0002f87b16116a7f   \n",
       "3          13  0003e1cccfd5a40a   \n",
       "4          14  00059ace3e3e9a53   \n",
       "5          16  000663aff0fffc80   \n",
       "6          17  000689dd34e20979   \n",
       "7          19  000844b52dee5f3f   \n",
       "8          21  00091c35fa9d0465   \n",
       "9          22  000968ce11f5ee34   \n",
       "\n",
       "                                        comment_text toxic  \n",
       "0  Thank you for understanding I think very highl...    no  \n",
       "1                     Dear god this site is horrible    no  \n",
       "2   Somebody will invariably try to add Religion ...    no  \n",
       "3    It says it right there that it IS a type The...    no  \n",
       "4     Before adding a new product to the list mak...    no  \n",
       "5                           this other one from 1897    no  \n",
       "6   Reason for banning throwing   This article ne...    no  \n",
       "7                  blocked from editing Wikipedia       no  \n",
       "8   Arabs are committing genocide in Iraq but no ...   yes  \n",
       "9  Please stop If you continue to vandalize Wikip...    no  "
      ]
     },
     "execution_count": 1,
     "metadata": {},
     "output_type": "execute_result"
    }
   ],
   "source": [
    "import numpy as np\n",
    "import pandas as pd\n",
    "comment_text = pd.read_csv('Sample_labaled_data.csv')\n",
    "comment_text.head(10)"
   ]
  },
  {
   "cell_type": "code",
   "execution_count": 2,
   "id": "7ca4ce7c",
   "metadata": {
    "colab": {
     "base_uri": "https://localhost:8080/",
     "height": 206
    },
    "id": "7ca4ce7c",
    "outputId": "22d7c270-494f-49e1-b825-3cd3e0777d4a"
   },
   "outputs": [
    {
     "data": {
      "text/html": [
       "<div>\n",
       "<style scoped>\n",
       "    .dataframe tbody tr th:only-of-type {\n",
       "        vertical-align: middle;\n",
       "    }\n",
       "\n",
       "    .dataframe tbody tr th {\n",
       "        vertical-align: top;\n",
       "    }\n",
       "\n",
       "    .dataframe thead th {\n",
       "        text-align: right;\n",
       "    }\n",
       "</style>\n",
       "<table border=\"1\" class=\"dataframe\">\n",
       "  <thead>\n",
       "    <tr style=\"text-align: right;\">\n",
       "      <th></th>\n",
       "      <th>Unnamed: 0</th>\n",
       "      <th>id</th>\n",
       "      <th>comment_text</th>\n",
       "      <th>toxic</th>\n",
       "    </tr>\n",
       "  </thead>\n",
       "  <tbody>\n",
       "    <tr>\n",
       "      <th>0</th>\n",
       "      <td>5</td>\n",
       "      <td>0001ea8717f6de06</td>\n",
       "      <td>Thank you for understanding I think very highl...</td>\n",
       "      <td>no</td>\n",
       "    </tr>\n",
       "    <tr>\n",
       "      <th>1</th>\n",
       "      <td>7</td>\n",
       "      <td>000247e83dcc1211</td>\n",
       "      <td>Dear god this site is horrible</td>\n",
       "      <td>no</td>\n",
       "    </tr>\n",
       "    <tr>\n",
       "      <th>2</th>\n",
       "      <td>11</td>\n",
       "      <td>0002f87b16116a7f</td>\n",
       "      <td>Somebody will invariably try to add Religion ...</td>\n",
       "      <td>no</td>\n",
       "    </tr>\n",
       "    <tr>\n",
       "      <th>3</th>\n",
       "      <td>13</td>\n",
       "      <td>0003e1cccfd5a40a</td>\n",
       "      <td>It says it right there that it IS a type The...</td>\n",
       "      <td>no</td>\n",
       "    </tr>\n",
       "    <tr>\n",
       "      <th>4</th>\n",
       "      <td>14</td>\n",
       "      <td>00059ace3e3e9a53</td>\n",
       "      <td>Before adding a new product to the list mak...</td>\n",
       "      <td>no</td>\n",
       "    </tr>\n",
       "  </tbody>\n",
       "</table>\n",
       "</div>"
      ],
      "text/plain": [
       "   Unnamed: 0                id  \\\n",
       "0           5  0001ea8717f6de06   \n",
       "1           7  000247e83dcc1211   \n",
       "2          11  0002f87b16116a7f   \n",
       "3          13  0003e1cccfd5a40a   \n",
       "4          14  00059ace3e3e9a53   \n",
       "\n",
       "                                        comment_text toxic  \n",
       "0  Thank you for understanding I think very highl...    no  \n",
       "1                     Dear god this site is horrible    no  \n",
       "2   Somebody will invariably try to add Religion ...    no  \n",
       "3    It says it right there that it IS a type The...    no  \n",
       "4     Before adding a new product to the list mak...    no  "
      ]
     },
     "execution_count": 2,
     "metadata": {},
     "output_type": "execute_result"
    }
   ],
   "source": [
    "toxic_comments=comment_text.loc[comment_text[\"toxic\"]==\"yes\"]\n",
    "comment_text.head(5)"
   ]
  },
  {
   "cell_type": "code",
   "execution_count": 2,
   "id": "8834ea6d",
   "metadata": {
    "colab": {
     "base_uri": "https://localhost:8080/"
    },
    "id": "8834ea6d",
    "outputId": "dc9de1b9-c2a2-41a9-8506-a51749e2e35b",
    "scrolled": true
   },
   "outputs": [
    {
     "name": "stdout",
     "output_type": "stream",
     "text": [
      "Requirement already satisfied: google-api-python-client in c:\\users\\kelly\\anaconda3\\lib\\site-packages (2.83.0)\n",
      "Requirement already satisfied: google-auth-httplib2 in c:\\users\\kelly\\anaconda3\\lib\\site-packages (0.1.0)\n",
      "Requirement already satisfied: google-auth-oauthlib in c:\\users\\kelly\\anaconda3\\lib\\site-packages (1.0.0)\n",
      "Requirement already satisfied: google-api-core!=2.0.*,!=2.1.*,!=2.2.*,!=2.3.0,<3.0.0dev,>=1.31.5 in c:\\users\\kelly\\anaconda3\\lib\\site-packages (from google-api-python-client) (2.11.0)\n",
      "Requirement already satisfied: httplib2<1dev,>=0.15.0 in c:\\users\\kelly\\anaconda3\\lib\\site-packages (from google-api-python-client) (0.22.0)\n",
      "Requirement already satisfied: google-auth<3.0.0dev,>=1.19.0 in c:\\users\\kelly\\anaconda3\\lib\\site-packages (from google-api-python-client) (2.16.3)\n",
      "Requirement already satisfied: uritemplate<5,>=3.0.1 in c:\\users\\kelly\\anaconda3\\lib\\site-packages (from google-api-python-client) (4.1.1)\n",
      "Requirement already satisfied: six in c:\\users\\kelly\\anaconda3\\lib\\site-packages (from google-auth-httplib2) (1.16.0)\n",
      "Requirement already satisfied: requests-oauthlib>=0.7.0 in c:\\users\\kelly\\anaconda3\\lib\\site-packages (from google-auth-oauthlib) (1.3.1)\n",
      "Requirement already satisfied: protobuf!=3.20.0,!=3.20.1,!=4.21.0,!=4.21.1,!=4.21.2,!=4.21.3,!=4.21.4,!=4.21.5,<5.0.0dev,>=3.19.5 in c:\\users\\kelly\\anaconda3\\lib\\site-packages (from google-api-core!=2.0.*,!=2.1.*,!=2.2.*,!=2.3.0,<3.0.0dev,>=1.31.5->google-api-python-client) (4.22.1)\n",
      "Requirement already satisfied: requests<3.0.0dev,>=2.18.0 in c:\\users\\kelly\\anaconda3\\lib\\site-packages (from google-api-core!=2.0.*,!=2.1.*,!=2.2.*,!=2.3.0,<3.0.0dev,>=1.31.5->google-api-python-client) (2.28.1)\n",
      "Requirement already satisfied: googleapis-common-protos<2.0dev,>=1.56.2 in c:\\users\\kelly\\anaconda3\\lib\\site-packages (from google-api-core!=2.0.*,!=2.1.*,!=2.2.*,!=2.3.0,<3.0.0dev,>=1.31.5->google-api-python-client) (1.59.0)\n",
      "Requirement already satisfied: cachetools<6.0,>=2.0.0 in c:\\users\\kelly\\anaconda3\\lib\\site-packages (from google-auth<3.0.0dev,>=1.19.0->google-api-python-client) (5.3.0)\n",
      "Requirement already satisfied: pyasn1-modules>=0.2.1 in c:\\users\\kelly\\anaconda3\\lib\\site-packages (from google-auth<3.0.0dev,>=1.19.0->google-api-python-client) (0.2.8)\n",
      "Requirement already satisfied: rsa<5,>=3.1.4 in c:\\users\\kelly\\anaconda3\\lib\\site-packages (from google-auth<3.0.0dev,>=1.19.0->google-api-python-client) (4.9)\n",
      "Requirement already satisfied: pyparsing!=3.0.0,!=3.0.1,!=3.0.2,!=3.0.3,<4,>=2.4.2 in c:\\users\\kelly\\anaconda3\\lib\\site-packages (from httplib2<1dev,>=0.15.0->google-api-python-client) (3.0.9)\n",
      "Requirement already satisfied: oauthlib>=3.0.0 in c:\\users\\kelly\\anaconda3\\lib\\site-packages (from requests-oauthlib>=0.7.0->google-auth-oauthlib) (3.2.2)\n",
      "Requirement already satisfied: pyasn1<0.5.0,>=0.4.6 in c:\\users\\kelly\\anaconda3\\lib\\site-packages (from pyasn1-modules>=0.2.1->google-auth<3.0.0dev,>=1.19.0->google-api-python-client) (0.4.8)\n",
      "Requirement already satisfied: urllib3<1.27,>=1.21.1 in c:\\users\\kelly\\anaconda3\\lib\\site-packages (from requests<3.0.0dev,>=2.18.0->google-api-core!=2.0.*,!=2.1.*,!=2.2.*,!=2.3.0,<3.0.0dev,>=1.31.5->google-api-python-client) (1.26.14)\n",
      "Requirement already satisfied: certifi>=2017.4.17 in c:\\users\\kelly\\anaconda3\\lib\\site-packages (from requests<3.0.0dev,>=2.18.0->google-api-core!=2.0.*,!=2.1.*,!=2.2.*,!=2.3.0,<3.0.0dev,>=1.31.5->google-api-python-client) (2022.12.7)\n",
      "Requirement already satisfied: idna<4,>=2.5 in c:\\users\\kelly\\anaconda3\\lib\\site-packages (from requests<3.0.0dev,>=2.18.0->google-api-core!=2.0.*,!=2.1.*,!=2.2.*,!=2.3.0,<3.0.0dev,>=1.31.5->google-api-python-client) (3.4)\n",
      "Requirement already satisfied: charset-normalizer<3,>=2 in c:\\users\\kelly\\anaconda3\\lib\\site-packages (from requests<3.0.0dev,>=2.18.0->google-api-core!=2.0.*,!=2.1.*,!=2.2.*,!=2.3.0,<3.0.0dev,>=1.31.5->google-api-python-client) (2.0.4)\n",
      "Note: you may need to restart the kernel to use updated packages.\n"
     ]
    }
   ],
   "source": [
    "pip install --upgrade google-api-python-client google-auth-httplib2 google-auth-oauthlib"
   ]
  },
  {
   "cell_type": "code",
   "execution_count": 3,
   "id": "2759208e",
   "metadata": {},
   "outputs": [
    {
     "name": "stdout",
     "output_type": "stream",
     "text": [
      "Puwersa ng Masa\n",
      "aapn bhtla aanand jhala\n",
      "Vandalism  Hello Barbara   It appears you have a long history of vandalism and after another incident I am afraid I have no choice but to request a permanent ban from administrators I wish you good luck for the future\n",
      "All the other DAPs have similar links and no one has complained\n",
      " Hands off my noobs P   Its not that Im particularly concerned about the loss of  but did you really need to step in and hardblock there  I saw the test edits I saw the username that while not violating any particular part of policy managed to be an astoundingly bad choice of username anyway I responded to these issues with the warning I felt was appropriate feeling that the user could have a second chance under a less moronic username  Yes I am more patient with newbies who screw up than you are We can each have our own approach to adminship But I dont unblock and warn noobs youve just hardblocked so how about you dont hardblock noobs Ive just warned  And if this was just an oversight thats fine Again it is unlikely that Wikipedia will suffer from the loss of this user\n",
      "EdJohnston you are wrong I did not file the report BenHen1997 did You also did not block the other person but only one of the several IPs they were using\n",
      "WPSOAPBOX WPFORUM etc Please engage in your conspiratorial fantasies elsewhere\n",
      "on February 21 2015\n",
      "The rapcore article cites 15 sources which back up all information stated including the basics of the genre The only person who is evading anything is Ridernyc who avoids any instance in which he would be forced to admit that he is wrong   \n",
      "just a community post isnt DB2FSS a First trimester screening a prenatal test aimed to detect diseases or conditions in a fetus or embryo\n",
      "Eek but shes cute in an earthy kind of way Cant sing for shit though Thanks for giving me an unhappy memory\n",
      "Found them He has already told us that the documents concern his registration of the name El Marino As to whether these supposed documents say anything whatsoever about a newspaper published in 1917 I have no idea  but they arent a thirdparty source either way They are primarysource documents confirming his personal actions\n",
      "  Draga apparently means Dear Google Translate Yes I am able to understand almost every Romance language at an intermediate level I never stated that I could speak Romanian Also I removed the babel list because I could not find a proper position for it as it took too much space and made my userpage long How is that any of your concern   \n",
      "Wikimania  Hello  Were chatting right now at Wikimania  Pleased to meet you\n",
      "for all peoples living East of a certain line like the Vistula because he distinguishes them from other large ethnic groups in the same area the Fenni probably FinnoUgric and the Sarmatians themselves Taking that together with Jordanes\n",
      "  PS IMHO this all falls under the category created by  on her talk page which she appropriately refers to as loopy talk page discussionsscoldings  \n",
      "  Use of Nepal Bhasa  The term Nepal Bhasa is used in English officially as well as commonly Here are some examples and facts about its use   Google ngram search shows that Nepal Bhasha has exceeded the use of Newar language here   Government of Nepal see picture of news about the Governments stance is there in the page itself    Nepal Bhasa Academy in its publications and awards   Nepal Bhasa Parishad in its publications and awards   World Newah Organization examples of use in page 23 and 7   Central Department of Nepal Bhasa Tribhuwan University the only university with curriculum in Nepal Bhasa News about scholarship in Nepal Bhasa   Nepa Pasa Pucha Americaye An example see page 9   Pasa Pucha Guthi UK An example   Rising Nepal daily Example   Dharmodaya Sabha the national Buddhist organization of Nepal The publications in the language are listed as Nepal Bhasa   Asha Archives the biggest archive of Nepal Bhasa literature Website   Journal of Lumbini Buddha Dharma Society Example   Journal of Newar Studies An example    Archive of English essay about Tipitaka translation project in Nepal Bhasa they have been publishing various segments of Tipitaka in Nepal Bhasa   Lotus research center Activities in Nepal Bhasa    EnglishNepal Bhasa dictionary in Amazon   Mobile phone Nepal Bhasa dictionary app   Matina international website   Miss Newa Miss best Nepal Bhasa is one of the categories Official website with contestants talking about Nepal BhasaTHT news about using Nepal Bhasa   Nepalmandalcom one of the very few websites in Nepal Bhasa stating their objectives regarding Nepal Bhasa   Image Channel Nepal Bhasa section  Thank you  \n",
      "If the indigenous population is so low why do they think they deserve everything\n",
      "and lewd sex in China\n",
      " No more April Foold edits by me in the article space   I will not make any more April Fools edits in the article space  Just in case you never saw it here is my April Fools edit from last year\n",
      "I absolutely agree with you Something is very wrong with my English if you misunderstood me as though I said all Haredim regected Rabbi Hirschs way What I said was actually quite the oppositeIn the beginning Agudat Israel was based on the legacy of Torah im Derech Erech Afterwards the Litvaks changed it but even today there is no dichotomy between Agudat Israel and Rabbi Hirschs way\n",
      " Bitch Creek Cow Camp Idaho   Hey Just a heads up I looked into this one and indeed there is a place named Bitch Creek Cow Camp Wanted to let you know that the folks in Idaho need not worry\n",
      "  Two short stories  The list of works contains something called The Mysterious Portrait Is this the same as the short story The Portrait  \n",
      "   May 2015   \n",
      "Well it sucks to have a university to be nicknameless And its the first time in NCAA history that it has happened \n",
      " Argh   Some random idiot deleted the whole Japan article \n",
      " hello   you are an T0TL D0UCH3 BG\n"
     ]
    },
    {
     "data": {
      "text/html": [
       "<div>\n",
       "<style scoped>\n",
       "    .dataframe tbody tr th:only-of-type {\n",
       "        vertical-align: middle;\n",
       "    }\n",
       "\n",
       "    .dataframe tbody tr th {\n",
       "        vertical-align: top;\n",
       "    }\n",
       "\n",
       "    .dataframe thead th {\n",
       "        text-align: right;\n",
       "    }\n",
       "</style>\n",
       "<table border=\"1\" class=\"dataframe\">\n",
       "  <thead>\n",
       "    <tr style=\"text-align: right;\">\n",
       "      <th></th>\n",
       "      <th>Unnamed: 0</th>\n",
       "      <th>id</th>\n",
       "      <th>comment_text</th>\n",
       "      <th>toxic</th>\n",
       "      <th>toxicity_score</th>\n",
       "    </tr>\n",
       "  </thead>\n",
       "  <tbody>\n",
       "    <tr>\n",
       "      <th>0</th>\n",
       "      <td>5</td>\n",
       "      <td>0001ea8717f6de06</td>\n",
       "      <td>Thank you for understanding I think very highl...</td>\n",
       "      <td>no</td>\n",
       "      <td>0.016210</td>\n",
       "    </tr>\n",
       "    <tr>\n",
       "      <th>1</th>\n",
       "      <td>7</td>\n",
       "      <td>000247e83dcc1211</td>\n",
       "      <td>Dear god this site is horrible</td>\n",
       "      <td>no</td>\n",
       "      <td>0.401485</td>\n",
       "    </tr>\n",
       "    <tr>\n",
       "      <th>2</th>\n",
       "      <td>11</td>\n",
       "      <td>0002f87b16116a7f</td>\n",
       "      <td>Somebody will invariably try to add Religion ...</td>\n",
       "      <td>no</td>\n",
       "      <td>0.432304</td>\n",
       "    </tr>\n",
       "    <tr>\n",
       "      <th>3</th>\n",
       "      <td>13</td>\n",
       "      <td>0003e1cccfd5a40a</td>\n",
       "      <td>It says it right there that it IS a type The...</td>\n",
       "      <td>no</td>\n",
       "      <td>0.050821</td>\n",
       "    </tr>\n",
       "    <tr>\n",
       "      <th>4</th>\n",
       "      <td>14</td>\n",
       "      <td>00059ace3e3e9a53</td>\n",
       "      <td>Before adding a new product to the list mak...</td>\n",
       "      <td>no</td>\n",
       "      <td>0.027089</td>\n",
       "    </tr>\n",
       "    <tr>\n",
       "      <th>...</th>\n",
       "      <td>...</td>\n",
       "      <td>...</td>\n",
       "      <td>...</td>\n",
       "      <td>...</td>\n",
       "      <td>...</td>\n",
       "    </tr>\n",
       "    <tr>\n",
       "      <th>95</th>\n",
       "      <td>253</td>\n",
       "      <td>006f1b719aa6010b</td>\n",
       "      <td>Two short stories  The list of works contain...</td>\n",
       "      <td>no</td>\n",
       "      <td>0.000000</td>\n",
       "    </tr>\n",
       "    <tr>\n",
       "      <th>96</th>\n",
       "      <td>254</td>\n",
       "      <td>007009b9d4b62e19</td>\n",
       "      <td>May 2015</td>\n",
       "      <td>no</td>\n",
       "      <td>0.000000</td>\n",
       "    </tr>\n",
       "    <tr>\n",
       "      <th>97</th>\n",
       "      <td>258</td>\n",
       "      <td>0071940212267fea</td>\n",
       "      <td>Well it sucks to have a university to be nickn...</td>\n",
       "      <td>yes</td>\n",
       "      <td>0.000000</td>\n",
       "    </tr>\n",
       "    <tr>\n",
       "      <th>98</th>\n",
       "      <td>259</td>\n",
       "      <td>0072b9c3697ab8cc</td>\n",
       "      <td>Argh   Some random idiot deleted the whole Ja...</td>\n",
       "      <td>yes</td>\n",
       "      <td>0.000000</td>\n",
       "    </tr>\n",
       "    <tr>\n",
       "      <th>99</th>\n",
       "      <td>260</td>\n",
       "      <td>0072f0af33e59b26</td>\n",
       "      <td>hello   you are an T0TL D0UCH3 BG</td>\n",
       "      <td>no</td>\n",
       "      <td>0.000000</td>\n",
       "    </tr>\n",
       "  </tbody>\n",
       "</table>\n",
       "<p>100 rows × 5 columns</p>\n",
       "</div>"
      ],
      "text/plain": [
       "    Unnamed: 0                id  \\\n",
       "0            5  0001ea8717f6de06   \n",
       "1            7  000247e83dcc1211   \n",
       "2           11  0002f87b16116a7f   \n",
       "3           13  0003e1cccfd5a40a   \n",
       "4           14  00059ace3e3e9a53   \n",
       "..         ...               ...   \n",
       "95         253  006f1b719aa6010b   \n",
       "96         254  007009b9d4b62e19   \n",
       "97         258  0071940212267fea   \n",
       "98         259  0072b9c3697ab8cc   \n",
       "99         260  0072f0af33e59b26   \n",
       "\n",
       "                                         comment_text toxic  toxicity_score  \n",
       "0   Thank you for understanding I think very highl...    no        0.016210  \n",
       "1                      Dear god this site is horrible    no        0.401485  \n",
       "2    Somebody will invariably try to add Religion ...    no        0.432304  \n",
       "3     It says it right there that it IS a type The...    no        0.050821  \n",
       "4      Before adding a new product to the list mak...    no        0.027089  \n",
       "..                                                ...   ...             ...  \n",
       "95    Two short stories  The list of works contain...    no        0.000000  \n",
       "96                                        May 2015       no        0.000000  \n",
       "97  Well it sucks to have a university to be nickn...   yes        0.000000  \n",
       "98   Argh   Some random idiot deleted the whole Ja...   yes        0.000000  \n",
       "99                  hello   you are an T0TL D0UCH3 BG    no        0.000000  \n",
       "\n",
       "[100 rows x 5 columns]"
      ]
     },
     "execution_count": 3,
     "metadata": {},
     "output_type": "execute_result"
    }
   ],
   "source": [
    "import numpy as np\n",
    "import pandas as pd\n",
    "from googleapiclient.discovery import build\n",
    "\n",
    "import json\n",
    "\n",
    "comment_text = pd.read_csv('Sample_labaled_data.csv')\n",
    "\n",
    "comment_text = comment_text.head(100)\n",
    "def get_toxicity_score(comment):\n",
    "    \n",
    "    API_KEY = 'my-api-key'\n",
    "    \n",
    "    client = build(\n",
    "    \"commentanalyzer\"\n",
    "    \"v1alpha1\",\n",
    "    developerKey=API_KEY,\n",
    "    discoveryServiceUrl=\"https://commentanalyzer.googleapis.com/$discovery/rest?version=v1alpha1\",\n",
    "    static_discovery=False,\n",
    "    version=2.0,\n",
    "    )\n",
    "    \n",
    "    analyze_request = {\n",
    "    'comment': {'text' : comment }, \n",
    "    'requestedAttributes': {'TOXICITY': {}}\n",
    "    }\n",
    "    \n",
    "    response = client.comments().analyze(body=analyze_request).execute()\n",
    "    toxicity_score = response[\"attributeScores\"][\"TOXICITY\"][\"summaryScore\"][\"value\"]\n",
    "    \n",
    "    return toxicity_score\n",
    "\n",
    "toxicity_scores = []\n",
    "for index, row in comment_text.iterrows():\n",
    "    comment = row['comment_text']\n",
    "    try:\n",
    "      score = get_toxicity_score(comment)\n",
    "    except:\n",
    "      score = 0\n",
    "      print(comment)\n",
    "    toxicity_scores.append(score)\n",
    "comment_text['toxicity_score'] = toxicity_scores\n",
    "comment_text"
   ]
  },
  {
   "cell_type": "markdown",
   "id": "1fd61a37",
   "metadata": {},
   "source": [
    "#This shows phrases with the highest toxcity scores out of the sampled data"
   ]
  },
  {
   "cell_type": "code",
   "execution_count": 4,
   "id": "44003653",
   "metadata": {
    "scrolled": true
   },
   "outputs": [
    {
     "name": "stdout",
     "output_type": "stream",
     "text": [
      "    toxicity_score                                       comment_text\n",
      "25        0.924899  I WILL BURN YOU TO HELL IF YOU REVOKE MY TALK ...\n",
      "36        0.877870  No he is an arrogant self serving immature idi...\n",
      "8         0.718943   Arabs are committing genocide in Iraq but no ...\n",
      "34        0.572199  How dare you vandalize that page about the HMS...\n",
      "71        0.571686                            WHAT THE HELL    Justin\n",
      "51        0.519808  This is just bizarre Ani Medjools abuse of wik...\n",
      "80        0.457611       Confusion upon Globus   Shouldnt we menti...\n",
      "75        0.457547  The specific page linked to is just junk in re...\n",
      "11        0.457482              Jews are not a race because you ca...\n",
      "79        0.457030  Buffoon Synonyms    bozo buffo clown comedian ...\n"
     ]
    },
    {
     "data": {
      "image/png": "[encoded data removed]",
      "text/plain": [
       "<Figure size 640x480 with 1 Axes>"
      ]
     },
     "metadata": {},
     "output_type": "display_data"
    }
   ],
   "source": [
    "import matplotlib.pyplot as plt\n",
    "query = comment_text.nlargest(10, 'toxicity_score')\n",
    "df = pd.DataFrame({'toxicity_score': query['toxicity_score'], 'comment_text': query['comment_text']})\n",
    "print(df)\n",
    "plt.title('Top Ten Toxicity Scores')\n",
    "plt.hist(query['toxicity_score'])\n",
    "plt.xlabel('Toxicity Scores')\n",
    "plt.ylabel('Total')\n",
    "plt.show()"
   ]
  },
  {
   "cell_type": "markdown",
   "id": "d086d6d9",
   "metadata": {},
   "source": [
    "#Here I am testing whether a specific writing style concerning any words to do with culture, to see if it affects the score."
   ]
  },
  {
   "cell_type": "code",
   "execution_count": null,
   "id": "747cd4ab",
   "metadata": {},
   "outputs": [],
   "source": [
    "get_toxicity_score(\"I will burn you to HELL?if you revoke my talk \")"
   ]
  },
  {
   "cell_type": "markdown",
   "id": "66dfc1c8",
   "metadata": {},
   "source": [
    "#Taking out the term Arabs from the statement significantly reduced the score, this suggest that the viewpoint API has a bias towards words associated with culture."
   ]
  },
  {
   "cell_type": "code",
   "execution_count": null,
   "id": "346b59c3",
   "metadata": {
    "scrolled": true
   },
   "outputs": [],
   "source": [
    "get_toxicity_score(\"Arabs are committing genocide in Iraq\")"
   ]
  },
  {
   "cell_type": "markdown",
   "id": "909f9c6d",
   "metadata": {},
   "source": [
    "#By taking out the culture associated word, the score reduces. "
   ]
  },
  {
   "cell_type": "code",
   "execution_count": null,
   "id": "e198783e",
   "metadata": {},
   "outputs": [],
   "source": [
    "get_toxicity_score(\"People are committing genocide in Iraq\")"
   ]
  },
  {
   "cell_type": "code",
   "execution_count": null,
   "id": "87f340ed",
   "metadata": {},
   "outputs": [],
   "source": [
    "get_toxicity_score(\"Humans are committing genocide in Iraq\")"
   ]
  },
  {
   "cell_type": "markdown",
   "id": "fa0d9aa3",
   "metadata": {},
   "source": [
    "#You can see that using words with a stronger cultural emphasis will also increase your score."
   ]
  },
  {
   "cell_type": "code",
   "execution_count": null,
   "id": "e58b7ec4",
   "metadata": {},
   "outputs": [],
   "source": [
    "get_toxicity_score(\"Muslims are committing genocide in Iraq\")"
   ]
  },
  {
   "cell_type": "code",
   "execution_count": null,
   "id": "ef6fb961",
   "metadata": {
    "scrolled": true
   },
   "outputs": [],
   "source": [
    "get_toxicity_score(\"christians are committing genocide in Iraq\")"
   ]
  },
  {
   "cell_type": "markdown",
   "id": "1efed240",
   "metadata": {},
   "source": [
    "#This shows phrases with the top 50 lowest toxcity scores out of the sampled data."
   ]
  },
  {
   "cell_type": "code",
   "execution_count": null,
   "id": "7241b00c",
   "metadata": {
    "scrolled": false
   },
   "outputs": [],
   "source": [
    "query = comment_text.nsmallest(51, 'toxicity_score')\n",
    "df = pd.DataFrame({'toxicity_score': query['toxicity_score'], 'comment_text': query['comment_text']})\n",
    "print(df)\n"
   ]
  },
  {
   "cell_type": "markdown",
   "id": "a0063c07",
   "metadata": {},
   "source": [
    "#Here I tested whether or not changing the formality of phrases affects the toxicity score. I used such writing styles as, formal, Informal, Conversational, and Persuasive to see if that would increase toxicity score. When doing this I used phases with already high toxicity rating as I believe changing the formality in these phrases would have the biggest impact. "
   ]
  },
  {
   "cell_type": "markdown",
   "id": "6a0fdba9",
   "metadata": {},
   "source": [
    "#Original style"
   ]
  },
  {
   "cell_type": "code",
   "execution_count": 10,
   "id": "feff2084",
   "metadata": {},
   "outputs": [
    {
     "data": {
      "text/plain": [
       "0.4014846"
      ]
     },
     "execution_count": 10,
     "metadata": {},
     "output_type": "execute_result"
    }
   ],
   "source": [
    "get_toxicity_score (\"Dear god this site is horrible\") "
   ]
  },
  {
   "cell_type": "markdown",
   "id": "95a77a79",
   "metadata": {},
   "source": [
    "#Formal style"
   ]
  },
  {
   "cell_type": "code",
   "execution_count": 11,
   "id": "d95507ea",
   "metadata": {
    "scrolled": true
   },
   "outputs": [
    {
     "data": {
      "text/plain": [
       "0.4014846"
      ]
     },
     "execution_count": 11,
     "metadata": {},
     "output_type": "execute_result"
    }
   ],
   "source": [
    "get_toxicity_score (\"Dear to who it may concern,this website is horrible\") "
   ]
  },
  {
   "cell_type": "markdown",
   "id": "4e70d37d",
   "metadata": {},
   "source": [
    "#Informal style"
   ]
  },
  {
   "cell_type": "code",
   "execution_count": 12,
   "id": "8f1f7270",
   "metadata": {},
   "outputs": [
    {
     "data": {
      "text/plain": [
       "0.37694603"
      ]
     },
     "execution_count": 12,
     "metadata": {},
     "output_type": "execute_result"
    }
   ],
   "source": [
    "get_toxicity_score(\"Honestly, this website is just terrible.\")"
   ]
  },
  {
   "cell_type": "markdown",
   "id": "0f7fed3b",
   "metadata": {},
   "source": [
    "#Conversational style"
   ]
  },
  {
   "cell_type": "code",
   "execution_count": 13,
   "id": "88a90aeb",
   "metadata": {},
   "outputs": [
    {
     "data": {
      "text/plain": [
       "0.43230394"
      ]
     },
     "execution_count": 13,
     "metadata": {},
     "output_type": "execute_result"
    }
   ],
   "source": [
    "get_toxicity_score(\"You know what, this website is just plain horrible.\")"
   ]
  },
  {
   "cell_type": "code",
   "execution_count": null,
   "id": "38617829",
   "metadata": {},
   "outputs": [],
   "source": [
    "#Persuasive style"
   ]
  },
  {
   "cell_type": "code",
   "execution_count": 14,
   "id": "958b573d",
   "metadata": {},
   "outputs": [
    {
     "data": {
      "text/plain": [
       "0.040430736"
      ]
     },
     "execution_count": 14,
     "metadata": {},
     "output_type": "execute_result"
    }
   ],
   "source": [
    "get_toxicity_score(\"Trust me, this website desperately needs improvement \")"
   ]
  },
  {
   "cell_type": "code",
   "execution_count": null,
   "id": "0d6056f0",
   "metadata": {},
   "outputs": [],
   "source": [
    "#Here I tested how spaces,profanity and commas. To see how these factors will affect the score."
   ]
  },
  {
   "cell_type": "code",
   "execution_count": 24,
   "id": "65297be9",
   "metadata": {},
   "outputs": [
    {
     "data": {
      "text/plain": [
       "0.011623607"
      ]
     },
     "execution_count": 24,
     "metadata": {},
     "output_type": "execute_result"
    }
   ],
   "source": [
    "get_toxicity_score(\"Halliday Good to see another contributor \")"
   ]
  },
  {
   "cell_type": "code",
   "execution_count": 23,
   "id": "0bd7d724",
   "metadata": {},
   "outputs": [
    {
     "data": {
      "text/plain": [
       "0.009236055"
      ]
     },
     "execution_count": 23,
     "metadata": {},
     "output_type": "execute_result"
    }
   ],
   "source": [
    "get_toxicity_score(\"Halliday   Good to   see    another contributor \")"
   ]
  },
  {
   "cell_type": "markdown",
   "id": "9af065a9",
   "metadata": {},
   "source": [
    "I added a comma to see how it would affect the score."
   ]
  },
  {
   "cell_type": "code",
   "execution_count": null,
   "id": "71f6d8d1",
   "metadata": {},
   "outputs": [],
   "source": [
    "get_toxicity_score(\"Halliday, Its finally good to see another contributor \")"
   ]
  },
  {
   "cell_type": "markdown",
   "id": "8b3ae748",
   "metadata": {},
   "source": [
    "I changed the phrase to have more profanity to see the impact of using such words. "
   ]
  },
  {
   "cell_type": "code",
   "execution_count": null,
   "id": "49c17db3",
   "metadata": {},
   "outputs": [],
   "source": [
    "get_toxicity_score(\"Halliday!! fucken finally, its good to see another contributor\")"
   ]
  },
  {
   "cell_type": "markdown",
   "id": "2a506d47",
   "metadata": {},
   "source": [
    "#Here Im testing if phrases in lower or upper case affects the scores."
   ]
  },
  {
   "cell_type": "code",
   "execution_count": null,
   "id": "9749afb8",
   "metadata": {},
   "outputs": [],
   "source": [
    "get_toxicity_score(\"I WILL BURN YOU TO HELL, IF YOU REVOKE MY TALK\")"
   ]
  },
  {
   "cell_type": "markdown",
   "id": "d9da477f",
   "metadata": {},
   "source": [
    "By changing the whole phrase into lowercase rather then uppercase keep the score the same. "
   ]
  },
  {
   "cell_type": "code",
   "execution_count": null,
   "id": "c6f22814",
   "metadata": {},
   "outputs": [],
   "source": [
    "get_toxicity_score(\"I will burn you to hell if you revoke my talk \")"
   ]
  },
  {
   "cell_type": "markdown",
   "id": "eb1accbc",
   "metadata": {},
   "source": [
    "#This shows the average scores of the sampled data set."
   ]
  },
  {
   "cell_type": "code",
   "execution_count": 5,
   "id": "27080964",
   "metadata": {
    "scrolled": false
   },
   "outputs": [
    {
     "data": {
      "image/png": "[encoded data removed]",
      "text/plain": [
       "<Figure size 640x480 with 1 Axes>"
      ]
     },
     "metadata": {},
     "output_type": "display_data"
    }
   ],
   "source": [
    "import matplotlib.pyplot as plt\n",
    "query = comment_text.nlargest(55254, 'toxicity_score')\n",
    "avg_score = np.mean(query['toxicity_score'])\n",
    "plt.hist(query['toxicity_score'])\n",
    "plt.axvline(x=avg_score, color='r', linestyle='--', label='Average of Scores')\n",
    "plt.xlabel('Toxicity Scores')\n",
    "plt.ylabel('Total phrases with the same score')\n",
    "plt.title('Sampled Data:(55253)')\n",
    "plt.legend()\n",
    "plt.show()"
   ]
  },
  {
   "cell_type": "code",
   "execution_count": 6,
   "id": "5402c125",
   "metadata": {},
   "outputs": [
    {
     "name": "stdout",
     "output_type": "stream",
     "text": [
      "Toxicity scores over 0.5:\n",
      "    Unnamed: 0                id  \\\n",
      "8           21  00091c35fa9d0465   \n",
      "25          56  0016b94c8b20ffa6   \n",
      "34          76  001d739c97bc2ae4   \n",
      "36          81  001eff4007dbb65b   \n",
      "51         121  0030e3ba49006440   \n",
      "71         194  00531c5e44a0f7b1   \n",
      "\n",
      "                                         comment_text toxic  toxicity_score  \n",
      "8    Arabs are committing genocide in Iraq but no ...   yes        0.718943  \n",
      "25  I WILL BURN YOU TO HELL IF YOU REVOKE MY TALK ...    no        0.924899  \n",
      "34  How dare you vandalize that page about the HMS...   yes        0.572199  \n",
      "36  No he is an arrogant self serving immature idi...   yes        0.877870  \n",
      "51  This is just bizarre Ani Medjools abuse of wik...    no        0.519808  \n",
      "71                            WHAT THE HELL    Justin    no        0.571686  \n"
     ]
    }
   ],
   "source": [
    "high_toxicity = comment_text.loc[comment_text['toxicity_score'] > 0.5]\n",
    "print(\"Toxicity scores over 0.5:\")\n",
    "print(high_toxicity)"
   ]
  }
 ],
 "metadata": {
  "colab": {
   "provenance": []
  },
  "kernelspec": {
   "display_name": "Python 3 (ipykernel)",
   "language": "python",
   "name": "python3"
  },
  "language_info": {
   "codemirror_mode": {
    "name": "ipython",
    "version": 3
   },
   "file_extension": ".py",
   "mimetype": "text/x-python",
   "name": "python",
   "nbconvert_exporter": "python",
   "pygments_lexer": "ipython3",
   "version": "3.10.9"
  }
 },
 "nbformat": 4,
 "nbformat_minor": 5
}
